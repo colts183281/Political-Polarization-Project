{
 "cells": [
  {
   "cell_type": "code",
   "execution_count": 20,
   "id": "equal-australia",
   "metadata": {},
   "outputs": [],
   "source": [
    "library(gamm4)\n",
    "library(tidyverse)"
   ]
  },
  {
   "cell_type": "code",
   "execution_count": 21,
   "id": "solved-nursing",
   "metadata": {},
   "outputs": [],
   "source": [
    "df <- read.csv('/home/twalton_umass_edu/Political Polarization Project/dem_20210428.csv')\n",
    "df$user_id_fac <- as.factor(df$user_id)\n",
    "schools <- c(\"s1\", \"s2\", \"s3\", \"s4\", \"s5\", \"s6\", \"s8\")\n",
    "final_coeffs <- data.frame(NULL)"
   ]
  },
  {
   "cell_type": "code",
   "execution_count": 22,
   "id": "aerial-salad",
   "metadata": {},
   "outputs": [
    {
     "name": "stdout",
     "output_type": "stream",
     "text": [
      "[1] 4\n",
      "[1] 5\n",
      "[1] 6\n",
      "[1] 7\n",
      "[1] 8\n",
      "[1] 9\n",
      "[1] 10\n",
      "[1] 11\n",
      "[1] 12\n",
      "[1] 13\n",
      "[1] 14\n",
      "[1] 15\n",
      "[1] 16\n",
      "[1] 17\n",
      "[1] 18\n",
      "[1] 19\n",
      "[1] 20\n",
      "[1] 21\n",
      "[1] 22\n",
      "[1] 23\n",
      "[1] 24\n",
      "[1] 25\n",
      "[1] 26\n",
      "[1] 27\n",
      "[1] 28\n",
      "[1] 29\n",
      "[1] 30\n",
      "[1] 31\n"
     ]
    }
   ],
   "source": [
    "for(k in 4:31){\n",
    "    for(s in schools){\n",
    "        school <- df[df$school == s,]\n",
    "        \n",
    "        spline_fit_re <- gamm4(\n",
    "            formula = emot_100_mean ~\n",
    "            s(period, bs = \"cr\", k = k, by = log_dem_count) + \n",
    "            s(period, bs = \"cr\", k = k, by = log_rep_count) + \n",
    "            user_id_fac, data = school)\n",
    "        \n",
    "        cis <- data.frame(confint(spline_fit_re$gam, type = 'confidence'))\n",
    "        coeffs <- spline_fit_re$gam$coefficients\n",
    "        \n",
    "        for(i in 1:k){\n",
    "            #rep coefficients\n",
    "            current <- data.frame(coeff = coeffs[[paste0('s(period):log_rep_count.', i)]],\n",
    "                          lower = cis[paste0('s(period):log_rep_count.', i), ][[1]],\n",
    "                          upper = cis[paste0('s(period):log_rep_count.', i), ][[2]],\n",
    "                          period = i, school = s, k = k, aic = AIC(spline_fit_re$mer),\n",
    "                          coeff_party = 'rep')\n",
    "            final_coeffs = rbind(current, final_coeffs)\n",
    "            \n",
    "            #dem coefficients\n",
    "            current <- data.frame(coeff = coeffs[[paste0('s(period):log_dem_count.', i)]],\n",
    "                          lower = cis[paste0('s(period):log_dem_count.', i), ][[1]],\n",
    "                          upper = cis[paste0('s(period):log_dem_count.', i), ][[2]],\n",
    "                          period = i, school = s, k = k, aic = AIC(spline_fit_re$mer),\n",
    "                          coeff_party = 'dem')\n",
    "            final_coeffs = rbind(current, final_coeffs)\n",
    "        }\n",
    "    }\n",
    "    print(k)\n",
    "    flush.console()\n",
    "}\n",
    "\n",
    "write.csv(final_coeffs, 'dem_gamm_models.csv')"
   ]
  },
  {
   "cell_type": "code",
   "execution_count": 8,
   "id": "stable-indonesian",
   "metadata": {},
   "outputs": [],
   "source": [
    "df <- read.csv('rep_gamm_models.csv')"
   ]
  },
  {
   "cell_type": "code",
   "execution_count": 14,
   "id": "fatty-pressure",
   "metadata": {},
   "outputs": [],
   "source": [
    "lowest <- df %>%\n",
    "    group_by(school) %>% slice(which.min(aic))"
   ]
  },
  {
   "cell_type": "code",
   "execution_count": 6,
   "id": "coral-decline",
   "metadata": {},
   "outputs": [],
   "source": [
    "df <- df[df$aic == min(df$aic), ]"
   ]
  }
 ],
 "metadata": {
  "kernelspec": {
   "display_name": "Python 3 (ipykernel)",
   "language": "python",
   "name": "python3"
  },
  "language_info": {
   "codemirror_mode": {
    "name": "ipython",
    "version": 3
   },
   "file_extension": ".py",
   "mimetype": "text/x-python",
   "name": "python",
   "nbconvert_exporter": "python",
   "pygments_lexer": "ipython3",
   "version": "3.8.10"
  }
 },
 "nbformat": 4,
 "nbformat_minor": 5
}
