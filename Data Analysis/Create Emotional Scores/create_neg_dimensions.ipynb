{
 "cells": [
  {
   "cell_type": "code",
   "execution_count": 1,
   "id": "developmental-ordinary",
   "metadata": {},
   "outputs": [],
   "source": [
    "#generate emotional dimensions for dems and reps\n",
    "import pandas as pd\n",
    "import numpy as np\n",
    "from gensim.models import Word2Vec\n",
    "\n",
    "INPUT = \"/home/twalton_umass_edu/Political Polarization Project/tmls/word_embeddings/\"\n",
    "\n",
    "#create vector that indicates the number of words chosen to create dimension\n",
    "num_words = [50, 100, 150, 200]"
   ]
  },
  {
   "cell_type": "code",
   "execution_count": 23,
   "id": "prostate-progressive",
   "metadata": {},
   "outputs": [
    {
     "name": "stdout",
     "output_type": "stream",
     "text": [
      "50\n",
      "50\n",
      "100\n",
      "100\n",
      "150\n",
      "150\n",
      "200\n",
      "200\n"
     ]
    }
   ],
   "source": [
    "#load in word embedding model\n",
    "model = Word2Vec.load(INPUT + \"dem_word2vec_100.model\")\n",
    "\n",
    "#loop through for dems\n",
    "for num in num_words:\n",
    "    #load in high/low emotions, creating dem_embed_analysis\n",
    "    high = pd.read_csv('/home/twalton_umass_edu/Political Polarization Project/tmls/word_embeddings/emotions/dem_high_' + str(num) + '.csv')\n",
    "    low = pd.read_csv('/home/twalton_umass_edu/Political Polarization Project/tmls/word_embeddings/emotions/dem_low_' + str(num) + '.csv')\n",
    "\n",
    "    print(len(high))\n",
    "    print(len(low))\n",
    "    \n",
    "    #create embedding, this is length of embedding\n",
    "    final = np.zeros(100)\n",
    "    \n",
    "    for i in range(num):\n",
    "        #this means that the dimension towards negative valence\n",
    "        dif = model.wv[low['Word'][i]] - model.wv[high['Word'][i]]\n",
    "        final += dif\n",
    "\n",
    "    final = final / num\n",
    "    \n",
    "    np.save('/home/twalton_umass_edu/Political Polarization Project/tmls/word_embeddings/emotions/dem_neg_dimension_' + str(num) + '.npy', final)"
   ]
  },
  {
   "cell_type": "code",
   "execution_count": 24,
   "id": "written-audience",
   "metadata": {},
   "outputs": [
    {
     "name": "stdout",
     "output_type": "stream",
     "text": [
      "50\n",
      "50\n",
      "100\n",
      "100\n",
      "150\n",
      "150\n",
      "200\n",
      "200\n"
     ]
    }
   ],
   "source": [
    "#load in word embedding model for reps\n",
    "model = Word2Vec.load(INPUT + \"rep_word2vec_100.model\")\n",
    "\n",
    "#loop through for dems\n",
    "for num in num_words:\n",
    "    #load in high/low emotions, creating dem_embed_analysis\n",
    "    high = pd.read_csv('/home/twalton_umass_edu/Political Polarization Project/tmls/word_embeddings/emotions/rep_high_' + str(num) + '.csv')\n",
    "    low = pd.read_csv('/home/twalton_umass_edu/Political Polarization Project/tmls/word_embeddings/emotions/rep_low_' + str(num) + '.csv')\n",
    "\n",
    "    print(len(high))\n",
    "    print(len(low))\n",
    "    \n",
    "    #create embedding, this is length of embedding\n",
    "    final = np.zeros(100)\n",
    "    \n",
    "    for i in range(num):\n",
    "        #this means that the dimension towards negative valence\n",
    "        dif = model.wv[low['Word'][i]] - model.wv[high['Word'][i]]\n",
    "        final += dif\n",
    "\n",
    "    final = final / num\n",
    "    \n",
    "    np.save('/home/twalton_umass_edu/Political Polarization Project/tmls/word_embeddings/emotions/rep_neg_dimension_' + str(num) + '.npy', final)"
   ]
  },
  {
   "cell_type": "code",
   "execution_count": 6,
   "id": "filled-spirituality",
   "metadata": {},
   "outputs": [],
   "source": [
    "#load in high/low emotions, creating dem_embed_analysis\n",
    "high = pd.read_csv('/home/twalton_umass_edu/Political Polarization Project/tmls/word_embeddings/emotions/dem_high.csv')\n",
    "low = pd.read_csv('/home/twalton_umass_edu/Political Polarization Project/tmls/word_embeddings/emotions/dem_low.csv')\n",
    "\n",
    "#load in word embedding model\n",
    "model = Word2Vec.load(INPUT + \"dem_word2vec_100.model\")"
   ]
  },
  {
   "cell_type": "code",
   "execution_count": 7,
   "id": "industrial-allowance",
   "metadata": {},
   "outputs": [
    {
     "name": "stdout",
     "output_type": "stream",
     "text": [
      "100\n",
      "100\n"
     ]
    }
   ],
   "source": [
    "print(len(high))\n",
    "print(len(low))"
   ]
  },
  {
   "cell_type": "code",
   "execution_count": 9,
   "id": "polar-scenario",
   "metadata": {},
   "outputs": [],
   "source": [
    "final = np.zeros(100)\n",
    "for i in range(100):\n",
    "    #this means that the dimension towards negative valence\n",
    "    dif = model.wv[low['Word'][i]] - model.wv[high['Word'][i]]\n",
    "    final += dif\n",
    "\n",
    "final = final / 100"
   ]
  },
  {
   "cell_type": "code",
   "execution_count": 10,
   "id": "olympic-citizen",
   "metadata": {},
   "outputs": [],
   "source": [
    "np.save('/home/twalton_umass_edu/Political Polarization Project/tmls/word_embeddings/emotions/dem_neg_dimension.npy', final)"
   ]
  },
  {
   "cell_type": "code",
   "execution_count": 14,
   "id": "female-appeal",
   "metadata": {},
   "outputs": [],
   "source": [
    "#do the same for republicans now\n",
    "#load in high/low emotions, creating dem/rep_embed_analysis\n",
    "high = pd.read_csv('/home/twalton_umass_edu/Political Polarization Project/tmls/word_embeddings/emotions/rep_high.csv')\n",
    "low = pd.read_csv('/home/twalton_umass_edu/Political Polarization Project/tmls/word_embeddings/emotions/rep_low.csv')\n",
    "\n",
    "#load in word embedding model\n",
    "model = Word2Vec.load(INPUT + \"rep_word2vec_100.model\")"
   ]
  },
  {
   "cell_type": "code",
   "execution_count": 15,
   "id": "three-ottawa",
   "metadata": {},
   "outputs": [
    {
     "name": "stdout",
     "output_type": "stream",
     "text": [
      "100\n",
      "100\n"
     ]
    }
   ],
   "source": [
    "print(len(high))\n",
    "print(len(low))"
   ]
  },
  {
   "cell_type": "code",
   "execution_count": 16,
   "id": "adult-silly",
   "metadata": {},
   "outputs": [],
   "source": [
    "final = np.zeros(100)\n",
    "for i in range(100):\n",
    "    #this means that the dimension towards negative valence\n",
    "    dif = model.wv[low['Word'][i]] - model.wv[high['Word'][i]]\n",
    "    final += dif\n",
    "\n",
    "final = final / 100"
   ]
  },
  {
   "cell_type": "code",
   "execution_count": 17,
   "id": "above-ideal",
   "metadata": {},
   "outputs": [],
   "source": [
    "np.save('/home/twalton_umass_edu/Political Polarization Project/tmls/word_embeddings/emotions/rep_neg_dimension.npy', final)"
   ]
  }
 ],
 "metadata": {
  "kernelspec": {
   "display_name": "Python 3",
   "language": "python",
   "name": "python3"
  },
  "language_info": {
   "codemirror_mode": {
    "name": "ipython",
    "version": 3
   },
   "file_extension": ".py",
   "mimetype": "text/x-python",
   "name": "python",
   "nbconvert_exporter": "python",
   "pygments_lexer": "ipython3",
   "version": "3.9.1"
  }
 },
 "nbformat": 4,
 "nbformat_minor": 5
}
