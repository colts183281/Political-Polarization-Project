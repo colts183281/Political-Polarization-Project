{
 "cells": [
  {
   "cell_type": "code",
   "execution_count": 2,
   "id": "verbal-fruit",
   "metadata": {},
   "outputs": [],
   "source": [
    "#script for getting words for dem/rep low/high emotional valence\n",
    "import pandas as pd\n",
    "from gensim.models import Word2Vec"
   ]
  },
  {
   "cell_type": "code",
   "execution_count": 3,
   "id": "transsexual-value",
   "metadata": {},
   "outputs": [],
   "source": [
    "#read in emotional words\n",
    "df = pd.read_csv('/home/twalton_umass_edu/Political Polarization Project/tmls/word_embeddings/emotions/vad.txt', sep = \"\\t\")"
   ]
  },
  {
   "cell_type": "code",
   "execution_count": 4,
   "id": "identical-potential",
   "metadata": {},
   "outputs": [],
   "source": [
    "#load in dem model\n",
    "model = Word2Vec.load('/home/twalton_umass_edu/Political Polarization Project/tmls/word_embeddings/dem_word2vec_100.model')"
   ]
  },
  {
   "cell_type": "code",
   "execution_count": 5,
   "id": "indirect-suggestion",
   "metadata": {},
   "outputs": [],
   "source": [
    "#stem so words match model\n",
    "import nltk\n",
    "sno = nltk.stem.SnowballStemmer('english')\n",
    "\n",
    "df['Word'] = [sno.stem(str(w)) for w in df['Word']]"
   ]
  },
  {
   "cell_type": "code",
   "execution_count": 6,
   "id": "cultural-sudan",
   "metadata": {},
   "outputs": [
    {
     "data": {
      "text/plain": [
       "11080"
      ]
     },
     "execution_count": 6,
     "metadata": {},
     "output_type": "execute_result"
    }
   ],
   "source": [
    "#select words that are in the dem embedding\n",
    "df = df[df['Word'].isin(model.wv.vocab)]\n",
    "len(df)"
   ]
  },
  {
   "cell_type": "code",
   "execution_count": 13,
   "id": "formed-custom",
   "metadata": {},
   "outputs": [],
   "source": [
    "#just go back and forth between this and line below to create multiple high/lows\n",
    "high = df.nlargest(200, 'Valence')\n",
    "low = df.nsmallest(200, 'Valence')"
   ]
  },
  {
   "cell_type": "code",
   "execution_count": 14,
   "id": "occupational-rugby",
   "metadata": {},
   "outputs": [],
   "source": [
    "high.to_csv('/home/twalton_umass_edu/Political Polarization Project/tmls/word_embeddings/emotions/dem_high_200.csv')\n",
    "low.to_csv('/home/twalton_umass_edu/Political Polarization Project/tmls/word_embeddings/emotions/dem_low_200.csv')"
   ]
  },
  {
   "cell_type": "code",
   "execution_count": 18,
   "id": "tight-bradley",
   "metadata": {},
   "outputs": [],
   "source": [
    "#do the same for reps\n",
    "df = pd.read_csv('/home/twalton_umass_edu/Political Polarization Project/tmls/word_embeddings/emotions/vad.txt', sep = \"\\t\")\n",
    "#load in dem model\n",
    "model = Word2Vec.load('/home/twalton_umass_edu/Political Polarization Project/tmls/word_embeddings/rep_word2vec_100.model')\n",
    "\n",
    "df['Word'] = [sno.stem(str(w)) for w in df['Word']]\n",
    "\n",
    "#select words that are in the dem embedding\n",
    "df = df[df['Word'].isin(model.wv.vocab)]\n",
    "len(df)\n",
    "\n",
    "#select the largest and samllest 50 words according to valence\n",
    "high = df.nlargest(200, 'Valence')\n",
    "low = df.nsmallest(200, 'Valence')\n",
    "\n",
    "high.to_csv('/home/twalton_umass_edu/Political Polarization Project/tmls/word_embeddings/emotions/rep_high_200.csv')\n",
    "low.to_csv('/home/twalton_umass_edu/Political Polarization Project/tmls/word_embeddings/emotions/rep_low_200.csv')"
   ]
  }
 ],
 "metadata": {
  "kernelspec": {
   "display_name": "Python 3",
   "language": "python",
   "name": "python3"
  },
  "language_info": {
   "codemirror_mode": {
    "name": "ipython",
    "version": 3
   },
   "file_extension": ".py",
   "mimetype": "text/x-python",
   "name": "python",
   "nbconvert_exporter": "python",
   "pygments_lexer": "ipython3",
   "version": "3.9.1"
  }
 },
 "nbformat": 4,
 "nbformat_minor": 5
}
