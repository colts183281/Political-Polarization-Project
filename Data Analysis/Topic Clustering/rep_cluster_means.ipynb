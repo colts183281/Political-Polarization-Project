{
 "cells": [
  {
   "cell_type": "code",
   "execution_count": 1,
   "id": "cooperative-administrator",
   "metadata": {},
   "outputs": [],
   "source": [
    "import pandas as pd\n",
    "import multiprocessing as mp\n",
    "import numpy as np\n",
    "from nltk.cluster import KMeansClusterer\n",
    "import nltk\n",
    "import random\n",
    "from nltk.cluster.util import cosine_distance"
   ]
  },
  {
   "cell_type": "code",
   "execution_count": 2,
   "id": "unexpected-lucas",
   "metadata": {},
   "outputs": [],
   "source": [
    "RNG = random.Random()\n",
    "RNG.seed(400)\n",
    "directory = \"/home/twalton_umass_edu/Political Polarization Project/tmls/word_embeddings/clustering/\"\n",
    "NUM_CLUSTERS = 50\n",
    "kclusterer = KMeansClusterer(NUM_CLUSTERS, distance=nltk.cluster.util.cosine_distance, repeats=1, rng=RNG)"
   ]
  },
  {
   "cell_type": "code",
   "execution_count": 3,
   "id": "abstract-raise",
   "metadata": {},
   "outputs": [],
   "source": [
    "list_dfs = []\n",
    "\n",
    "for i in range(8):\n",
    "    df = pd.read_csv(directory + 'trained/rep_trained_' + str(i) + '.csv')\n",
    "    \n",
    "    n = round(len(df.index) * .2)\n",
    "    \n",
    "    list_dfs.append(df.sample(n, random_state = 4))\n",
    "\n",
    "df = pd.concat(list_dfs)"
   ]
  },
  {
   "cell_type": "code",
   "execution_count": 4,
   "id": "exposed-words",
   "metadata": {},
   "outputs": [
    {
     "name": "stdout",
     "output_type": "stream",
     "text": [
      "1951776\n"
     ]
    },
    {
     "data": {
      "text/html": [
       "<div>\n",
       "<style scoped>\n",
       "    .dataframe tbody tr th:only-of-type {\n",
       "        vertical-align: middle;\n",
       "    }\n",
       "\n",
       "    .dataframe tbody tr th {\n",
       "        vertical-align: top;\n",
       "    }\n",
       "\n",
       "    .dataframe thead th {\n",
       "        text-align: right;\n",
       "    }\n",
       "</style>\n",
       "<table border=\"1\" class=\"dataframe\">\n",
       "  <thead>\n",
       "    <tr style=\"text-align: right;\">\n",
       "      <th></th>\n",
       "      <th>0</th>\n",
       "      <th>1</th>\n",
       "      <th>2</th>\n",
       "      <th>3</th>\n",
       "      <th>4</th>\n",
       "      <th>5</th>\n",
       "      <th>6</th>\n",
       "      <th>7</th>\n",
       "      <th>8</th>\n",
       "      <th>9</th>\n",
       "      <th>...</th>\n",
       "      <th>90</th>\n",
       "      <th>91</th>\n",
       "      <th>92</th>\n",
       "      <th>93</th>\n",
       "      <th>94</th>\n",
       "      <th>95</th>\n",
       "      <th>96</th>\n",
       "      <th>97</th>\n",
       "      <th>98</th>\n",
       "      <th>99</th>\n",
       "    </tr>\n",
       "  </thead>\n",
       "  <tbody>\n",
       "    <tr>\n",
       "      <th>525632</th>\n",
       "      <td>1.266404</td>\n",
       "      <td>-0.809047</td>\n",
       "      <td>-0.938614</td>\n",
       "      <td>0.256465</td>\n",
       "      <td>1.859091</td>\n",
       "      <td>-1.474263</td>\n",
       "      <td>0.710428</td>\n",
       "      <td>-1.044884</td>\n",
       "      <td>-0.619056</td>\n",
       "      <td>-2.131058</td>\n",
       "      <td>...</td>\n",
       "      <td>-0.698336</td>\n",
       "      <td>-0.552818</td>\n",
       "      <td>-0.589427</td>\n",
       "      <td>-0.424370</td>\n",
       "      <td>-0.863962</td>\n",
       "      <td>-0.388310</td>\n",
       "      <td>0.789288</td>\n",
       "      <td>-0.042339</td>\n",
       "      <td>-0.967326</td>\n",
       "      <td>-0.687004</td>\n",
       "    </tr>\n",
       "    <tr>\n",
       "      <th>1153686</th>\n",
       "      <td>0.622440</td>\n",
       "      <td>-0.638622</td>\n",
       "      <td>0.534359</td>\n",
       "      <td>-0.329633</td>\n",
       "      <td>0.653521</td>\n",
       "      <td>0.008633</td>\n",
       "      <td>0.367060</td>\n",
       "      <td>0.152377</td>\n",
       "      <td>-0.086714</td>\n",
       "      <td>-0.168968</td>\n",
       "      <td>...</td>\n",
       "      <td>-0.769124</td>\n",
       "      <td>-0.063715</td>\n",
       "      <td>-0.787205</td>\n",
       "      <td>0.062268</td>\n",
       "      <td>0.365873</td>\n",
       "      <td>0.058202</td>\n",
       "      <td>0.299701</td>\n",
       "      <td>0.216338</td>\n",
       "      <td>-0.247577</td>\n",
       "      <td>0.024252</td>\n",
       "    </tr>\n",
       "    <tr>\n",
       "      <th>28335</th>\n",
       "      <td>0.168832</td>\n",
       "      <td>-0.103211</td>\n",
       "      <td>0.335799</td>\n",
       "      <td>-0.123029</td>\n",
       "      <td>0.122027</td>\n",
       "      <td>0.083120</td>\n",
       "      <td>-0.161598</td>\n",
       "      <td>-0.188677</td>\n",
       "      <td>-0.423631</td>\n",
       "      <td>0.455258</td>\n",
       "      <td>...</td>\n",
       "      <td>-0.266072</td>\n",
       "      <td>0.280434</td>\n",
       "      <td>0.053534</td>\n",
       "      <td>-0.355915</td>\n",
       "      <td>0.148340</td>\n",
       "      <td>0.017222</td>\n",
       "      <td>-0.016296</td>\n",
       "      <td>0.282557</td>\n",
       "      <td>0.350015</td>\n",
       "      <td>-0.172866</td>\n",
       "    </tr>\n",
       "    <tr>\n",
       "      <th>531144</th>\n",
       "      <td>0.668393</td>\n",
       "      <td>-0.288157</td>\n",
       "      <td>-0.082868</td>\n",
       "      <td>-0.190734</td>\n",
       "      <td>0.159036</td>\n",
       "      <td>0.099419</td>\n",
       "      <td>-0.164918</td>\n",
       "      <td>-0.084533</td>\n",
       "      <td>0.135850</td>\n",
       "      <td>-0.034513</td>\n",
       "      <td>...</td>\n",
       "      <td>-0.183477</td>\n",
       "      <td>-0.102942</td>\n",
       "      <td>0.407139</td>\n",
       "      <td>-0.544761</td>\n",
       "      <td>0.002878</td>\n",
       "      <td>0.031454</td>\n",
       "      <td>0.124118</td>\n",
       "      <td>0.271650</td>\n",
       "      <td>0.974641</td>\n",
       "      <td>0.086267</td>\n",
       "    </tr>\n",
       "    <tr>\n",
       "      <th>542909</th>\n",
       "      <td>0.465829</td>\n",
       "      <td>0.017086</td>\n",
       "      <td>-0.011158</td>\n",
       "      <td>0.089803</td>\n",
       "      <td>0.126673</td>\n",
       "      <td>-0.145606</td>\n",
       "      <td>-0.112091</td>\n",
       "      <td>0.095955</td>\n",
       "      <td>0.187605</td>\n",
       "      <td>0.198471</td>\n",
       "      <td>...</td>\n",
       "      <td>-0.167894</td>\n",
       "      <td>0.224961</td>\n",
       "      <td>-0.185913</td>\n",
       "      <td>-0.453273</td>\n",
       "      <td>-0.154858</td>\n",
       "      <td>-0.112782</td>\n",
       "      <td>-0.218189</td>\n",
       "      <td>0.170993</td>\n",
       "      <td>-0.058409</td>\n",
       "      <td>-0.009419</td>\n",
       "    </tr>\n",
       "  </tbody>\n",
       "</table>\n",
       "<p>5 rows × 100 columns</p>\n",
       "</div>"
      ],
      "text/plain": [
       "                0         1         2         3         4         5         6  \\\n",
       "525632   1.266404 -0.809047 -0.938614  0.256465  1.859091 -1.474263  0.710428   \n",
       "1153686  0.622440 -0.638622  0.534359 -0.329633  0.653521  0.008633  0.367060   \n",
       "28335    0.168832 -0.103211  0.335799 -0.123029  0.122027  0.083120 -0.161598   \n",
       "531144   0.668393 -0.288157 -0.082868 -0.190734  0.159036  0.099419 -0.164918   \n",
       "542909   0.465829  0.017086 -0.011158  0.089803  0.126673 -0.145606 -0.112091   \n",
       "\n",
       "                7         8         9  ...        90        91        92  \\\n",
       "525632  -1.044884 -0.619056 -2.131058  ... -0.698336 -0.552818 -0.589427   \n",
       "1153686  0.152377 -0.086714 -0.168968  ... -0.769124 -0.063715 -0.787205   \n",
       "28335   -0.188677 -0.423631  0.455258  ... -0.266072  0.280434  0.053534   \n",
       "531144  -0.084533  0.135850 -0.034513  ... -0.183477 -0.102942  0.407139   \n",
       "542909   0.095955  0.187605  0.198471  ... -0.167894  0.224961 -0.185913   \n",
       "\n",
       "               93        94        95        96        97        98        99  \n",
       "525632  -0.424370 -0.863962 -0.388310  0.789288 -0.042339 -0.967326 -0.687004  \n",
       "1153686  0.062268  0.365873  0.058202  0.299701  0.216338 -0.247577  0.024252  \n",
       "28335   -0.355915  0.148340  0.017222 -0.016296  0.282557  0.350015 -0.172866  \n",
       "531144  -0.544761  0.002878  0.031454  0.124118  0.271650  0.974641  0.086267  \n",
       "542909  -0.453273 -0.154858 -0.112782 -0.218189  0.170993 -0.058409 -0.009419  \n",
       "\n",
       "[5 rows x 100 columns]"
      ]
     },
     "execution_count": 4,
     "metadata": {},
     "output_type": "execute_result"
    }
   ],
   "source": [
    "print(len(df))\n",
    "del df['Unnamed: 0']\n",
    "df.head()"
   ]
  },
  {
   "cell_type": "code",
   "execution_count": 5,
   "id": "proper-suffering",
   "metadata": {},
   "outputs": [],
   "source": [
    "go = df.to_numpy()"
   ]
  },
  {
   "cell_type": "code",
   "execution_count": null,
   "id": "hidden-container",
   "metadata": {},
   "outputs": [],
   "source": [
    "assigned_clusters = kclusterer.cluster(go, assign_clusters=True)\n",
    "\n",
    "means = np.array(kclusterer.means())\n",
    "\n",
    "np.save(directory + 'rep_cluster_'+str(NUM_CLUSTERS)+'_means.npy', means)"
   ]
  },
  {
   "cell_type": "code",
   "execution_count": 10,
   "id": "absolute-company",
   "metadata": {},
   "outputs": [],
   "source": [
    "means = np.array(kclusterer.means())"
   ]
  },
  {
   "cell_type": "code",
   "execution_count": 13,
   "id": "furnished-right",
   "metadata": {},
   "outputs": [
    {
     "data": {
      "text/plain": [
       "array([ 0.12938462, -0.04675884,  0.26222211, -0.00577935,  0.34910081,\n",
       "       -0.17731376, -0.2515762 , -0.29449959, -0.00722436, -0.00840344,\n",
       "        0.32317744,  0.06208453, -0.04500214,  0.33188773,  0.00951806,\n",
       "        0.09501034,  0.26773716, -0.05376962,  0.13064229, -0.10880485,\n",
       "       -0.18866922,  0.13707359,  0.10088116, -0.16773963,  0.17112155,\n",
       "       -0.01766462, -0.37777245,  0.24708333, -0.0187877 , -0.03443827,\n",
       "        0.32364981,  0.03583464,  0.26502388,  0.21848374, -0.02360948,\n",
       "        0.092739  ,  0.055717  , -0.08284205, -0.11110875, -0.26803221,\n",
       "       -0.1222042 ,  0.19605513, -0.19263827,  0.33766896, -0.08091931,\n",
       "        0.14275409, -0.23984898,  0.08759121,  0.11514513, -0.20844839,\n",
       "        0.05611096, -0.21344202, -0.09457803,  0.39112929, -0.00191141,\n",
       "       -0.30507116, -0.150527  , -0.24662256,  0.26986048,  0.06501372,\n",
       "        0.20369698,  0.0014876 , -0.44519968,  0.18711661,  0.04342453,\n",
       "       -0.64259736, -0.24230395,  0.49920983,  0.17142547, -0.2357039 ,\n",
       "        0.11895358, -0.03871668,  0.02372294,  0.09515376, -0.04003572,\n",
       "        0.07739042,  0.36818568, -0.0659387 ,  0.00645961,  0.14410593,\n",
       "       -0.2353264 ,  0.23974988, -0.07393275, -0.09810583,  0.13475988,\n",
       "        0.09497858,  0.34198952,  0.07199476,  0.22583709, -0.09398032,\n",
       "       -0.54750738, -0.16086064, -0.41033728,  0.06820683, -0.10611068,\n",
       "        0.196412  ,  0.19351669,  0.29294069,  0.06661418,  0.09427407])"
      ]
     },
     "execution_count": 13,
     "metadata": {},
     "output_type": "execute_result"
    }
   ],
   "source": [
    "means[1]"
   ]
  },
  {
   "cell_type": "code",
   "execution_count": 12,
   "id": "informed-advertising",
   "metadata": {},
   "outputs": [
    {
     "name": "stdout",
     "output_type": "stream",
     "text": [
      "0.47827664766206435\n"
     ]
    }
   ],
   "source": [
    "sum_dists = []\n",
    "\n",
    "for i, c in enumerate(assigned_clusters):\n",
    "    sum_dists.append(cosine_distance(means[c], df[i]))\n",
    "\n",
    "print(np.mean(sum_dists))"
   ]
  },
  {
   "cell_type": "code",
   "execution_count": 14,
   "id": "boring-burden",
   "metadata": {},
   "outputs": [],
   "source": [
    "np.save(directory + 'rep_cluster_'+str(NUM_CLUSTERS)+'_means.npy', means)"
   ]
  }
 ],
 "metadata": {
  "kernelspec": {
   "display_name": "Python [conda env:.conda-work]",
   "language": "python",
   "name": "conda-env-.conda-work-py"
  },
  "language_info": {
   "codemirror_mode": {
    "name": "ipython",
    "version": 3
   },
   "file_extension": ".py",
   "mimetype": "text/x-python",
   "name": "python",
   "nbconvert_exporter": "python",
   "pygments_lexer": "ipython3",
   "version": "3.9.2"
  }
 },
 "nbformat": 4,
 "nbformat_minor": 5
}
