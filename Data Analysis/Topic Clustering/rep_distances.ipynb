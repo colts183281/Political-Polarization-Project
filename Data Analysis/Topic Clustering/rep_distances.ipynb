{
 "cells": [
  {
   "cell_type": "code",
   "execution_count": null,
   "id": "sacred-sugar",
   "metadata": {},
   "outputs": [],
   "source": [
    "#need to get similairty cluster mean scores for all tweets\n",
    "#takes a while because each tweet needs to be measured 30 times\n",
    "#create functions that will run in parallel\n",
    "#this script works for republicans\n",
    "#the second splits into the 8 months, 16 total processes running\n",
    "#one the distances are created they are saved to the distances folder"
   ]
  },
  {
   "cell_type": "code",
   "execution_count": 1,
   "id": "advised-japanese",
   "metadata": {},
   "outputs": [],
   "source": [
    "import pandas as pd\n",
    "import numpy as np\n",
    "from gensim.models import Word2Vec\n",
    "from numpy import dot\n",
    "from numpy.linalg import norm\n",
    "import multiprocessing as mp\n",
    "\n",
    "OUTPUT = \"/home/twalton_umass_edu/Political Polarization Project/tmls/word_embeddings/clustering/\"\n",
    "INPUT = '/home/twalton_umass_edu/Political Polarization Project/tmls/word_embeddings/sent_embed/'\n",
    "NUM_CLUSTERS = 40\n",
    "\n",
    "#create list of numbers to represent months\n",
    "months = range(8)\n",
    "#load model\n",
    "model = Word2Vec.load('/home/twalton_umass_edu/Political Polarization Project/tmls/word_embeddings/rep_word2vec_100.model')\n",
    "#load means\n",
    "means = np.load('/home/twalton_umass_edu/Political Polarization Project/tmls/word_embeddings/clustering/rep_cluster_' + str(NUM_CLUSTERS) + '_means.npy')\n",
    "\n",
    "#cosine similarity function\n",
    "def cosine_sim(a, b):\n",
    "    return dot(a, b) / (norm(a)*norm(b))"
   ]
  },
  {
   "cell_type": "code",
   "execution_count": 3,
   "id": "alike-surgery",
   "metadata": {},
   "outputs": [],
   "source": [
    "#function that gets the scores/saves for each month\n",
    "def get_scores(m):\n",
    "    \n",
    "    #load cleaned text dataframe\n",
    "    text = pd.read_csv(INPUT + 'cleaned/rep_clean_' + str(m) + '.csv')\n",
    "    #load sentence embeddings\n",
    "    embedding = pd.read_csv(INPUT + 'trained/rep_trained_' + str(m) + '.csv')\n",
    "    \n",
    "    print('length of text: ' + str(len(text)))\n",
    "    print('length of embedding: ' + str(len(embedding)))\n",
    "    \n",
    "    #remove unnamed axxis from embedding\n",
    "    embedding = embedding.drop(['Unnamed: 0'], axis = 1)\n",
    "    \n",
    "    dicts = []\n",
    "    \n",
    "    for embed in range(len(embedding)):\n",
    "        d = {}\n",
    "        distances = np.array([cosine_sim(embedding.loc[embed], me) for me in means])\n",
    "        sorted_dists = distances.argsort()\n",
    "        for i, topic in enumerate(sorted_dists):\n",
    "            d['topic_' + str(i)] = topic  # ith closest topic\n",
    "            d['cosine_' + str(i)] = distances[topic]  # cosine distance of ith closest topic\n",
    "        dicts.append(d)\n",
    "    df = pd.DataFrame(dicts)\n",
    "    df.to_csv(OUTPUT + 'distances/rep_kmeans_topics_' + str(NUM_CLUSTERS) + '_' + str(m) + '.csv', index=False)"
   ]
  },
  {
   "cell_type": "code",
   "execution_count": null,
   "id": "molecular-cycling",
   "metadata": {},
   "outputs": [
    {
     "name": "stdout",
     "output_type": "stream",
     "text": [
      "length of text: 2294805\n",
      "length of embedding: 2294805\n",
      "length of text: 1230169\n",
      "length of embedding: 1230169\n",
      "length of text: 2015834\n",
      "length of embedding: 2015834\n",
      "length of text: 2406714\n",
      "length of embedding: 2406714\n",
      "length of text: 2750488\n",
      "length of embedding: 2750488\n",
      "length of text: 2694886\n",
      "length of embedding: 2694886\n",
      "length of text: 2527290\n",
      "length of embedding: 2527290\n",
      "length of text: 2464728\n",
      "length of embedding: 2464728\n"
     ]
    }
   ],
   "source": [
    "pool = mp.Pool(mp.cpu_count())\n",
    "\n",
    "results = pool.map(get_scores, [m for m in months])\n",
    "\n",
    "pool.close()"
   ]
  },
  {
   "cell_type": "code",
   "execution_count": 3,
   "id": "common-republican",
   "metadata": {},
   "outputs": [
    {
     "name": "stdout",
     "output_type": "stream",
     "text": [
      "length of text: 2464728\n",
      "length of embedding: 2464728\n"
     ]
    }
   ],
   "source": [
    "get_scores(3)"
   ]
  }
 ],
 "metadata": {
  "kernelspec": {
   "display_name": "Python [conda env:.conda-work]",
   "language": "python",
   "name": "conda-env-.conda-work-py"
  },
  "language_info": {
   "codemirror_mode": {
    "name": "ipython",
    "version": 3
   },
   "file_extension": ".py",
   "mimetype": "text/x-python",
   "name": "python",
   "nbconvert_exporter": "python",
   "pygments_lexer": "ipython3",
   "version": "3.9.2"
  }
 },
 "nbformat": 4,
 "nbformat_minor": 5
}
